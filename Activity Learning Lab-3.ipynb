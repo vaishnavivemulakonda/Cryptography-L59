{
  "nbformat": 4,
  "nbformat_minor": 0,
  "metadata": {
    "colab": {
      "provenance": []
    },
    "kernelspec": {
      "name": "python3",
      "display_name": "Python 3"
    },
    "language_info": {
      "name": "python"
    }
  },
  "cells": [
    {
      "cell_type": "code",
      "execution_count": null,
      "metadata": {
        "id": "f1V12eixFM4a",
        "outputId": "f5d6adfe-6f5b-42dd-fb4b-8f09961bd274",
        "colab": {
          "base_uri": "https://localhost:8080/"
        }
      },
      "outputs": [
        {
          "output_type": "stream",
          "name": "stdout",
          "text": [
            "Cipher Key: {'a': 'm', 'b': 'h', 'c': 'g', 'd': 'v', 'e': 'x', 'f': 'c', 'g': 's', 'h': 'f', 'i': 'k', 'j': 'z', 'k': 'w', 'l': 'j', 'm': 't', 'n': 'a', 'o': 'e', 'p': 'u', 'q': 'r', 'r': 'q', 's': 'y', 't': 'd', 'u': 'n', 'v': 'l', 'w': 'o', 'x': 'p', 'y': 'b', 'z': 'i'}\n",
            "Encrypted Text: Fxjje, Oeqjv!\n",
            "Decrypted Text: Hello, World!\n"
          ]
        }
      ],
      "source": [
        "# Substitution Cipher Implementation\n",
        "\n",
        "import string\n",
        "\n",
        "# Generate a substitution cipher key (shuffled alphabet)\n",
        "def generate_key():\n",
        "    alphabet = list(string.ascii_lowercase)\n",
        "    shuffled = alphabet.copy()\n",
        "    import random\n",
        "    random.shuffle(shuffled)\n",
        "    return {char: shuffled[i] for i, char in enumerate(alphabet)}\n",
        "\n",
        "# Encrypt the text\n",
        "def encrypt(text, cipher_key):\n",
        "    encrypted = []\n",
        "    for char in text:\n",
        "        if char.isalpha():\n",
        "            # Maintain case sensitivity\n",
        "            if char.islower():\n",
        "                encrypted.append(cipher_key.get(char, char))\n",
        "            else:\n",
        "                encrypted.append(cipher_key.get(char.lower(), char).upper())\n",
        "        else:\n",
        "            encrypted.append(char)\n",
        "    return ''.join(encrypted)\n",
        "\n",
        "# Decrypt the text\n",
        "def decrypt(encrypted_text, cipher_key):\n",
        "    reverse_key = {v: k for k, v in cipher_key.items()}\n",
        "    decrypted = []\n",
        "    for char in encrypted_text:\n",
        "        if char.isalpha():\n",
        "            if char.islower():\n",
        "                decrypted.append(reverse_key.get(char, char))\n",
        "            else:\n",
        "                decrypted.append(reverse_key.get(char.lower(), char).upper())\n",
        "        else:\n",
        "            decrypted.append(char)\n",
        "    return ''.join(decrypted)\n",
        "\n",
        "# Example Usage\n",
        "cipher_key = generate_key()\n",
        "print(\"Cipher Key:\", cipher_key)\n",
        "\n",
        "# Input text\n",
        "plain_text = \"Hello, World!\"\n",
        "\n",
        "# Encrypt\n",
        "encrypted_text = encrypt(plain_text, cipher_key)\n",
        "print(\"Encrypted Text:\", encrypted_text)\n",
        "\n",
        "# Decrypt\n",
        "decrypted_text = decrypt(encrypted_text, cipher_key)\n",
        "print(\"Decrypted Text:\", decrypted_text)\n"
      ]
    }
  ]
}