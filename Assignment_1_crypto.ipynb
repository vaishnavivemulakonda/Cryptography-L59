{
  "nbformat": 4,
  "nbformat_minor": 0,
  "metadata": {
    "colab": {
      "provenance": []
    },
    "kernelspec": {
      "name": "python3",
      "display_name": "Python 3"
    },
    "language_info": {
      "name": "python"
    }
  },
  "cells": [
    {
      "cell_type": "code",
      "execution_count": null,
      "metadata": {
        "colab": {
          "base_uri": "https://localhost:8080/"
        },
        "id": "QZC2Kdg-htv5",
        "outputId": "4be99ba8-139a-438c-ec76-01d7354ff7e7"
      },
      "outputs": [
        {
          "output_type": "stream",
          "name": "stdout",
          "text": [
            "Encrypted: Ydlvkqdyl, FVH\n",
            "Decrypted: Vaishnavi, CSE\n"
          ]
        }
      ],
      "source": [
        "def caesar_cipher_encrypt(text, shift):\n",
        "    encrypted_text = \"\"\n",
        "    for char in text:\n",
        "        if char.isalpha():\n",
        "            shift_base = ord('A') if char.isupper() else ord('a')\n",
        "            encrypted_text += chr((ord(char) - shift_base + shift) % 26 + shift_base)\n",
        "        else:\n",
        "            encrypted_text += char\n",
        "    return encrypted_text\n",
        "\n",
        "def caesar_cipher_decrypt(text, shift):\n",
        "    return caesar_cipher_encrypt(text, -shift)\n",
        "\n",
        "if __name__ == \"__main__\":\n",
        "    plaintext = \"Vaishnavi, CSE\"\n",
        "    shift = 3\n",
        "    encrypted = caesar_cipher_encrypt(plaintext, shift)\n",
        "    print(\"Encrypted:\", encrypted)\n",
        "    decrypted = caesar_cipher_decrypt(encrypted, shift)\n",
        "    print(\"Decrypted:\", decrypted)\n"
      ]
    }
  ]
}