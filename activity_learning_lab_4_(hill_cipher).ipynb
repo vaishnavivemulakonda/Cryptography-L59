{
  "nbformat": 4,
  "nbformat_minor": 0,
  "metadata": {
    "colab": {
      "provenance": []
    },
    "kernelspec": {
      "name": "python3",
      "display_name": "Python 3"
    },
    "language_info": {
      "name": "python"
    }
  },
  "cells": [
    {
      "cell_type": "code",
      "execution_count": 1,
      "metadata": {
        "colab": {
          "base_uri": "https://localhost:8080/"
        },
        "id": "tVDDm-cB_CfH",
        "outputId": "e385e50c-d301-41c8-b4b3-bc80ef30b164"
      },
      "outputs": [
        {
          "output_type": "stream",
          "name": "stdout",
          "text": [
            "Ciphertext: POH\n",
            "Decrypted Text: ACT\n"
          ]
        }
      ],
      "source": [
        "import numpy as np\n",
        "\n",
        "def mod_inverse_matrix(matrix, mod):\n",
        "    det = int(round(np.linalg.det(matrix)))  # Compute determinant\n",
        "    det_inv = pow(det, -1, mod)  # Compute modular inverse of determinant\n",
        "    adjugate = np.round(det * np.linalg.inv(matrix)).astype(int) % mod  # Compute adjugate matrix\n",
        "    return (det_inv * adjugate) % mod  # Compute inverse matrix mod 26\n",
        "\n",
        "def text_to_numbers(text):\n",
        "    return [ord(char) - ord('A') for char in text]\n",
        "\n",
        "def numbers_to_text(numbers):\n",
        "    return ''.join(chr(num + ord('A')) for num in numbers)\n",
        "\n",
        "def encrypt(plaintext, key):\n",
        "    n = len(key)\n",
        "    plaintext = plaintext.upper().replace(\" \", \"\")  # Convert to uppercase & remove spaces\n",
        "    if len(plaintext) % n != 0:\n",
        "        plaintext += 'X' * (n - len(plaintext) % n)  # Padding with 'X' if necessary\n",
        "\n",
        "    plaintext_numbers = text_to_numbers(plaintext)\n",
        "    ciphertext_numbers = []\n",
        "\n",
        "    for i in range(0, len(plaintext_numbers), n):\n",
        "        block = np.array(plaintext_numbers[i:i+n]).reshape(n, 1)\n",
        "        encrypted_block = np.dot(key, block) % 26  # Matrix multiplication mod 26\n",
        "        ciphertext_numbers.extend(encrypted_block.flatten())\n",
        "\n",
        "    return numbers_to_text(ciphertext_numbers)\n",
        "\n",
        "def decrypt(ciphertext, key):\n",
        "    key_inv = mod_inverse_matrix(key, 26)\n",
        "    ciphertext_numbers = text_to_numbers(ciphertext)\n",
        "    decrypted_numbers = []\n",
        "\n",
        "    n = len(key)\n",
        "    for i in range(0, len(ciphertext_numbers), n):\n",
        "        block = np.array(ciphertext_numbers[i:i+n]).reshape(n, 1)\n",
        "        decrypted_block = np.dot(key_inv, block) % 26  # Matrix multiplication mod 26\n",
        "        decrypted_numbers.extend(decrypted_block.flatten())\n",
        "\n",
        "    return numbers_to_text(decrypted_numbers)\n",
        "\n",
        "# Example usage\n",
        "key_matrix = np.array([[6, 24, 1], [13, 16, 10], [20, 17, 15]])  # 3x3 Key matrix\n",
        "plaintext = \"ACT\"\n",
        "\n",
        "ciphertext = encrypt(plaintext, key_matrix)\n",
        "print(f\"Ciphertext: {ciphertext}\")\n",
        "\n",
        "decrypted_text = decrypt(ciphertext, key_matrix)\n",
        "print(f\"Decrypted Text: {decrypted_text}\")\n"
      ]
    }
  ]
}